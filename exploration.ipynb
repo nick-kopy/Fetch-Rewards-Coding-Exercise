{
 "cells": [
  {
   "cell_type": "code",
   "execution_count": 108,
   "id": "04ab1c45",
   "metadata": {},
   "outputs": [],
   "source": [
    "import json\n",
    "import gzip\n",
    "\n",
    "import psycopg2"
   ]
  },
  {
   "cell_type": "markdown",
   "id": "3929f0d1",
   "metadata": {},
   "source": [
    "### Take home test\n",
    "for fetch"
   ]
  },
  {
   "cell_type": "code",
   "execution_count": 386,
   "id": "330e951c",
   "metadata": {},
   "outputs": [],
   "source": [
    "# RESET SQL HERE\n",
    "\n",
    "conn = psycopg2.connect(dbname='postgres',\n",
    "                        host='localhost',\n",
    "                        user='postgres',\n",
    "                        password='123456')\n",
    "\n",
    "cur = conn.cursor()"
   ]
  },
  {
   "cell_type": "code",
   "execution_count": 378,
   "id": "be435145",
   "metadata": {
    "scrolled": true
   },
   "outputs": [
    {
     "data": {
      "text/plain": [
       "{'_id': {'$oid': '5ff1e1bb0a720f052300056b'},\n",
       " 'bonusPointsEarned': 150,\n",
       " 'bonusPointsEarnedReason': 'Receipt number 5 completed, bonus point schedule DEFAULT (5cefdcacf3693e0b50e83a36)',\n",
       " 'createDate': {'$date': 1609687483000},\n",
       " 'dateScanned': {'$date': 1609687483000},\n",
       " 'finishedDate': {'$date': 1609687483000},\n",
       " 'modifyDate': {'$date': 1609687488000},\n",
       " 'pointsAwardedDate': {'$date': 1609687483000},\n",
       " 'pointsEarned': '150.0',\n",
       " 'purchaseDate': {'$date': 1609601083000},\n",
       " 'purchasedItemCount': 2,\n",
       " 'rewardsReceiptItemList': [{'barcode': '4011',\n",
       "   'description': 'ITEM NOT FOUND',\n",
       "   'finalPrice': '1',\n",
       "   'itemPrice': '1',\n",
       "   'partnerItemId': '1',\n",
       "   'quantityPurchased': 1},\n",
       "  {'barcode': '028400642255',\n",
       "   'description': 'DORITOS TORTILLA CHIP SPICY SWEET CHILI REDUCED FAT BAG 1 OZ',\n",
       "   'finalPrice': '10.00',\n",
       "   'itemPrice': '10.00',\n",
       "   'needsFetchReview': True,\n",
       "   'needsFetchReviewReason': 'USER_FLAGGED',\n",
       "   'partnerItemId': '2',\n",
       "   'pointsNotAwardedReason': 'Action not allowed for user and CPG',\n",
       "   'pointsPayerId': '5332f5fbe4b03c9a25efd0ba',\n",
       "   'preventTargetGapPoints': True,\n",
       "   'quantityPurchased': 1,\n",
       "   'rewardsGroup': 'DORITOS SPICY SWEET CHILI SINGLE SERVE',\n",
       "   'rewardsProductPartnerId': '5332f5fbe4b03c9a25efd0ba',\n",
       "   'userFlaggedBarcode': '028400642255',\n",
       "   'userFlaggedDescription': 'DORITOS TORTILLA CHIP SPICY SWEET CHILI REDUCED FAT BAG 1 OZ',\n",
       "   'userFlaggedNewItem': True,\n",
       "   'userFlaggedPrice': '10.00',\n",
       "   'userFlaggedQuantity': 1}],\n",
       " 'rewardsReceiptStatus': 'FINISHED',\n",
       " 'totalSpent': '11.00',\n",
       " 'userId': '5ff1e194b6a9d73a3a9f1052'}"
      ]
     },
     "execution_count": 378,
     "metadata": {},
     "output_type": "execute_result"
    }
   ],
   "source": [
    "# First unzip the raw data\n",
    "\n",
    "url_brands = 'data/brands.json.gz'\n",
    "url_receipts = 'data/receipts.json.gz'\n",
    "url_users = 'data/users.json.gz'\n",
    "\n",
    "with gzip.open(url_receipts, 'r') as file:\n",
    "    bytes_data = file.read()\n",
    "    data_str = bytes_data.decode('utf-8')\n",
    "\n",
    "# Separate different rows of data, list of strings\n",
    "data = data_str.split('\\n')\n",
    "\n",
    "# fist data row\n",
    "json.loads(data[1])"
   ]
  },
  {
   "cell_type": "code",
   "execution_count": 379,
   "id": "6822993d",
   "metadata": {},
   "outputs": [
    {
     "data": {
      "text/plain": [
       "1120"
      ]
     },
     "execution_count": 379,
     "metadata": {},
     "output_type": "execute_result"
    }
   ],
   "source": [
    "len(data)"
   ]
  },
  {
   "cell_type": "code",
   "execution_count": 380,
   "id": "9219bb04",
   "metadata": {},
   "outputs": [],
   "source": [
    "# Useful recursive function to flatten any given JSON row\n",
    "# Copied from https://www.geeksforgeeks.org/flattening-json-objects-in-python/\n",
    "\n",
    "def flatten_json(y):\n",
    "    out = {}\n",
    "  \n",
    "    def flatten(x, name =''):\n",
    "          \n",
    "        # If the Nested key-value \n",
    "        # pair is of dict type\n",
    "        if type(x) is dict:\n",
    "              \n",
    "            for a in x:\n",
    "                flatten(x[a], name + a + '_')\n",
    "                  \n",
    "        # If the Nested key-value\n",
    "        # pair is of list type\n",
    "        elif type(x) is list:\n",
    "              \n",
    "            i = 0\n",
    "              \n",
    "            for a in x:                \n",
    "                flatten(a, name + str(i) + '_')\n",
    "                i += 1\n",
    "        else:\n",
    "            out[name[:-1]] = x\n",
    "  \n",
    "    flatten(y)\n",
    "    return out"
   ]
  },
  {
   "cell_type": "code",
   "execution_count": 357,
   "id": "25ea06bb",
   "metadata": {},
   "outputs": [
    {
     "data": {
      "text/plain": [
       "{'_id_$oid': '5ff1e1bb0a720f052300056b',\n",
       " 'bonusPointsEarned': 150,\n",
       " 'bonusPointsEarnedReason': 'Receipt number 5 completed, bonus point schedule DEFAULT (5cefdcacf3693e0b50e83a36)',\n",
       " 'createDate_$date': 1609687483000,\n",
       " 'dateScanned_$date': 1609687483000,\n",
       " 'finishedDate_$date': 1609687483000,\n",
       " 'modifyDate_$date': 1609687488000,\n",
       " 'pointsAwardedDate_$date': 1609687483000,\n",
       " 'pointsEarned': '150.0',\n",
       " 'purchaseDate_$date': 1609601083000,\n",
       " 'purchasedItemCount': 2,\n",
       " 'rewardsReceiptItemList_0_barcode': '4011',\n",
       " 'rewardsReceiptItemList_0_description': 'ITEM NOT FOUND',\n",
       " 'rewardsReceiptItemList_0_finalPrice': '1',\n",
       " 'rewardsReceiptItemList_0_itemPrice': '1',\n",
       " 'rewardsReceiptItemList_0_partnerItemId': '1',\n",
       " 'rewardsReceiptItemList_0_quantityPurchased': 1,\n",
       " 'rewardsReceiptItemList_1_barcode': '028400642255',\n",
       " 'rewardsReceiptItemList_1_description': 'DORITOS TORTILLA CHIP SPICY SWEET CHILI REDUCED FAT BAG 1 OZ',\n",
       " 'rewardsReceiptItemList_1_finalPrice': '10.00',\n",
       " 'rewardsReceiptItemList_1_itemPrice': '10.00',\n",
       " 'rewardsReceiptItemList_1_needsFetchReview': True,\n",
       " 'rewardsReceiptItemList_1_needsFetchReviewReason': 'USER_FLAGGED',\n",
       " 'rewardsReceiptItemList_1_partnerItemId': '2',\n",
       " 'rewardsReceiptItemList_1_pointsNotAwardedReason': 'Action not allowed for user and CPG',\n",
       " 'rewardsReceiptItemList_1_pointsPayerId': '5332f5fbe4b03c9a25efd0ba',\n",
       " 'rewardsReceiptItemList_1_preventTargetGapPoints': True,\n",
       " 'rewardsReceiptItemList_1_quantityPurchased': 1,\n",
       " 'rewardsReceiptItemList_1_rewardsGroup': 'DORITOS SPICY SWEET CHILI SINGLE SERVE',\n",
       " 'rewardsReceiptItemList_1_rewardsProductPartnerId': '5332f5fbe4b03c9a25efd0ba',\n",
       " 'rewardsReceiptItemList_1_userFlaggedBarcode': '028400642255',\n",
       " 'rewardsReceiptItemList_1_userFlaggedDescription': 'DORITOS TORTILLA CHIP SPICY SWEET CHILI REDUCED FAT BAG 1 OZ',\n",
       " 'rewardsReceiptItemList_1_userFlaggedNewItem': True,\n",
       " 'rewardsReceiptItemList_1_userFlaggedPrice': '10.00',\n",
       " 'rewardsReceiptItemList_1_userFlaggedQuantity': 1,\n",
       " 'rewardsReceiptStatus': 'FINISHED',\n",
       " 'totalSpent': '11.00',\n",
       " 'userId': '5ff1e194b6a9d73a3a9f1052'}"
      ]
     },
     "execution_count": 357,
     "metadata": {},
     "output_type": "execute_result"
    }
   ],
   "source": [
    "flatten_json(json.loads(data[1]))"
   ]
  },
  {
   "cell_type": "code",
   "execution_count": 295,
   "id": "785455e7",
   "metadata": {},
   "outputs": [],
   "source": [
    "# Making the schema for the brands table\n",
    "query = '''\n",
    "        CREATE TABLE brands (\n",
    "            _id VARCHAR(24), \n",
    "            barcode BIGINT, \n",
    "            brandCode VARCHAR(64),\n",
    "            category VARCHAR(64),\n",
    "            categoryCode VARCHAR(64),\n",
    "            cpg VARCHAR(24),\n",
    "            topBrand BOOL,\n",
    "            name VARCHAR(64)\n",
    "        );\n",
    "        '''\n",
    "cur.execute(query)"
   ]
  },
  {
   "cell_type": "code",
   "execution_count": 296,
   "id": "16eeab12",
   "metadata": {},
   "outputs": [],
   "source": [
    "def row_to_sql(num):\n",
    "    # Returns a list of values (as strings) at a given row \n",
    "    # so it can fit into SQL\n",
    "    \n",
    "    row = flatten_json(json.loads(data[num]))\n",
    "\n",
    "    keys = ['_id_$oid', 'barcode', 'brandCode', 'category', 'categoryCode',\n",
    "            'cpg_$ref', 'topBrand', 'name']\n",
    "\n",
    "    vals = ['NULL'] * len(keys)\n",
    "\n",
    "    # All 'NULL' unless data is available\n",
    "    for i, k in enumerate(keys):\n",
    "        if k in row.keys():\n",
    "            a = row[k]\n",
    "            if isinstance(a, str):\n",
    "                a = a.replace(\"'\", '')\n",
    "            vals[i] = a\n",
    "    \n",
    "    return vals"
   ]
  },
  {
   "cell_type": "code",
   "execution_count": 297,
   "id": "51ce33d3",
   "metadata": {},
   "outputs": [
    {
     "data": {
      "text/plain": [
       "['5ab15636e4b0be0a89bb0b07',\n",
       " '511111504412',\n",
       " 'CAMPBELLS HOME STYLE',\n",
       " 'Canned Goods & Soups',\n",
       " 'NULL',\n",
       " 'Cogs',\n",
       " False,\n",
       " 'Campbells Home Style']"
      ]
     },
     "execution_count": 297,
     "metadata": {},
     "output_type": "execute_result"
    }
   ],
   "source": [
    "row_to_sql(8)"
   ]
  },
  {
   "cell_type": "code",
   "execution_count": 298,
   "id": "e6c7e399",
   "metadata": {
    "scrolled": true
   },
   "outputs": [
    {
     "ename": "JSONDecodeError",
     "evalue": "Expecting value: line 1 column 1 (char 0)",
     "output_type": "error",
     "traceback": [
      "\u001b[0;31m---------------------------------------------------------------------------\u001b[0m",
      "\u001b[0;31mJSONDecodeError\u001b[0m                           Traceback (most recent call last)",
      "\u001b[0;32m<ipython-input-298-55924f92e06a>\u001b[0m in \u001b[0;36m<module>\u001b[0;34m\u001b[0m\n\u001b[0;32m----> 1\u001b[0;31m \u001b[0mflatten_json\u001b[0m\u001b[0;34m(\u001b[0m\u001b[0mjson\u001b[0m\u001b[0;34m.\u001b[0m\u001b[0mloads\u001b[0m\u001b[0;34m(\u001b[0m\u001b[0mdata\u001b[0m\u001b[0;34m[\u001b[0m\u001b[0;36m1167\u001b[0m\u001b[0;34m]\u001b[0m\u001b[0;34m)\u001b[0m\u001b[0;34m)\u001b[0m\u001b[0;34m\u001b[0m\u001b[0;34m\u001b[0m\u001b[0m\n\u001b[0m",
      "\u001b[0;32m~/anaconda3/lib/python3.8/json/__init__.py\u001b[0m in \u001b[0;36mloads\u001b[0;34m(s, cls, object_hook, parse_float, parse_int, parse_constant, object_pairs_hook, **kw)\u001b[0m\n\u001b[1;32m    355\u001b[0m             \u001b[0mparse_int\u001b[0m \u001b[0;32mis\u001b[0m \u001b[0;32mNone\u001b[0m \u001b[0;32mand\u001b[0m \u001b[0mparse_float\u001b[0m \u001b[0;32mis\u001b[0m \u001b[0;32mNone\u001b[0m \u001b[0;32mand\u001b[0m\u001b[0;34m\u001b[0m\u001b[0;34m\u001b[0m\u001b[0m\n\u001b[1;32m    356\u001b[0m             parse_constant is None and object_pairs_hook is None and not kw):\n\u001b[0;32m--> 357\u001b[0;31m         \u001b[0;32mreturn\u001b[0m \u001b[0m_default_decoder\u001b[0m\u001b[0;34m.\u001b[0m\u001b[0mdecode\u001b[0m\u001b[0;34m(\u001b[0m\u001b[0ms\u001b[0m\u001b[0;34m)\u001b[0m\u001b[0;34m\u001b[0m\u001b[0;34m\u001b[0m\u001b[0m\n\u001b[0m\u001b[1;32m    358\u001b[0m     \u001b[0;32mif\u001b[0m \u001b[0mcls\u001b[0m \u001b[0;32mis\u001b[0m \u001b[0;32mNone\u001b[0m\u001b[0;34m:\u001b[0m\u001b[0;34m\u001b[0m\u001b[0;34m\u001b[0m\u001b[0m\n\u001b[1;32m    359\u001b[0m         \u001b[0mcls\u001b[0m \u001b[0;34m=\u001b[0m \u001b[0mJSONDecoder\u001b[0m\u001b[0;34m\u001b[0m\u001b[0;34m\u001b[0m\u001b[0m\n",
      "\u001b[0;32m~/anaconda3/lib/python3.8/json/decoder.py\u001b[0m in \u001b[0;36mdecode\u001b[0;34m(self, s, _w)\u001b[0m\n\u001b[1;32m    335\u001b[0m \u001b[0;34m\u001b[0m\u001b[0m\n\u001b[1;32m    336\u001b[0m         \"\"\"\n\u001b[0;32m--> 337\u001b[0;31m         \u001b[0mobj\u001b[0m\u001b[0;34m,\u001b[0m \u001b[0mend\u001b[0m \u001b[0;34m=\u001b[0m \u001b[0mself\u001b[0m\u001b[0;34m.\u001b[0m\u001b[0mraw_decode\u001b[0m\u001b[0;34m(\u001b[0m\u001b[0ms\u001b[0m\u001b[0;34m,\u001b[0m \u001b[0midx\u001b[0m\u001b[0;34m=\u001b[0m\u001b[0m_w\u001b[0m\u001b[0;34m(\u001b[0m\u001b[0ms\u001b[0m\u001b[0;34m,\u001b[0m \u001b[0;36m0\u001b[0m\u001b[0;34m)\u001b[0m\u001b[0;34m.\u001b[0m\u001b[0mend\u001b[0m\u001b[0;34m(\u001b[0m\u001b[0;34m)\u001b[0m\u001b[0;34m)\u001b[0m\u001b[0;34m\u001b[0m\u001b[0;34m\u001b[0m\u001b[0m\n\u001b[0m\u001b[1;32m    338\u001b[0m         \u001b[0mend\u001b[0m \u001b[0;34m=\u001b[0m \u001b[0m_w\u001b[0m\u001b[0;34m(\u001b[0m\u001b[0ms\u001b[0m\u001b[0;34m,\u001b[0m \u001b[0mend\u001b[0m\u001b[0;34m)\u001b[0m\u001b[0;34m.\u001b[0m\u001b[0mend\u001b[0m\u001b[0;34m(\u001b[0m\u001b[0;34m)\u001b[0m\u001b[0;34m\u001b[0m\u001b[0;34m\u001b[0m\u001b[0m\n\u001b[1;32m    339\u001b[0m         \u001b[0;32mif\u001b[0m \u001b[0mend\u001b[0m \u001b[0;34m!=\u001b[0m \u001b[0mlen\u001b[0m\u001b[0;34m(\u001b[0m\u001b[0ms\u001b[0m\u001b[0;34m)\u001b[0m\u001b[0;34m:\u001b[0m\u001b[0;34m\u001b[0m\u001b[0;34m\u001b[0m\u001b[0m\n",
      "\u001b[0;32m~/anaconda3/lib/python3.8/json/decoder.py\u001b[0m in \u001b[0;36mraw_decode\u001b[0;34m(self, s, idx)\u001b[0m\n\u001b[1;32m    353\u001b[0m             \u001b[0mobj\u001b[0m\u001b[0;34m,\u001b[0m \u001b[0mend\u001b[0m \u001b[0;34m=\u001b[0m \u001b[0mself\u001b[0m\u001b[0;34m.\u001b[0m\u001b[0mscan_once\u001b[0m\u001b[0;34m(\u001b[0m\u001b[0ms\u001b[0m\u001b[0;34m,\u001b[0m \u001b[0midx\u001b[0m\u001b[0;34m)\u001b[0m\u001b[0;34m\u001b[0m\u001b[0;34m\u001b[0m\u001b[0m\n\u001b[1;32m    354\u001b[0m         \u001b[0;32mexcept\u001b[0m \u001b[0mStopIteration\u001b[0m \u001b[0;32mas\u001b[0m \u001b[0merr\u001b[0m\u001b[0;34m:\u001b[0m\u001b[0;34m\u001b[0m\u001b[0;34m\u001b[0m\u001b[0m\n\u001b[0;32m--> 355\u001b[0;31m             \u001b[0;32mraise\u001b[0m \u001b[0mJSONDecodeError\u001b[0m\u001b[0;34m(\u001b[0m\u001b[0;34m\"Expecting value\"\u001b[0m\u001b[0;34m,\u001b[0m \u001b[0ms\u001b[0m\u001b[0;34m,\u001b[0m \u001b[0merr\u001b[0m\u001b[0;34m.\u001b[0m\u001b[0mvalue\u001b[0m\u001b[0;34m)\u001b[0m \u001b[0;32mfrom\u001b[0m \u001b[0;32mNone\u001b[0m\u001b[0;34m\u001b[0m\u001b[0;34m\u001b[0m\u001b[0m\n\u001b[0m\u001b[1;32m    356\u001b[0m         \u001b[0;32mreturn\u001b[0m \u001b[0mobj\u001b[0m\u001b[0;34m,\u001b[0m \u001b[0mend\u001b[0m\u001b[0;34m\u001b[0m\u001b[0;34m\u001b[0m\u001b[0m\n",
      "\u001b[0;31mJSONDecodeError\u001b[0m: Expecting value: line 1 column 1 (char 0)"
     ]
    }
   ],
   "source": [
    "flatten_json(json.loads(data[1167]))"
   ]
  },
  {
   "cell_type": "code",
   "execution_count": 299,
   "id": "c2b5da9e",
   "metadata": {},
   "outputs": [
    {
     "name": "stdout",
     "output_type": "stream",
     "text": [
      "0\n",
      "1\n",
      "2\n",
      "3\n",
      "4\n"
     ]
    }
   ],
   "source": [
    "for i in range(len(data)-1):\n",
    "    vals = row_to_sql(i)\n",
    "\n",
    "    query = '''\n",
    "            INSERT INTO brands\n",
    "            VALUES (\n",
    "            '{0}', '{1}', '{2}', '{3}', '{4}', '{5}', {6}, '{7}'\n",
    "            );\n",
    "            '''.format(*vals)\n",
    "    \n",
    "    # Replacing 'NULL' varchar with NULL type\n",
    "    query = query.replace(\"'NULL'\", \"NULL\")\n",
    "\n",
    "    cur.execute(query)"
   ]
  },
  {
   "cell_type": "code",
   "execution_count": 278,
   "id": "2fac22d2",
   "metadata": {},
   "outputs": [],
   "source": [
    "query = '''\n",
    "        SELECT category, COUNT(category) FROM brands GROUP BY category;\n",
    "        '''\n",
    "\n",
    "cur.execute(query)"
   ]
  },
  {
   "cell_type": "code",
   "execution_count": 279,
   "id": "0f10c069",
   "metadata": {
    "scrolled": true
   },
   "outputs": [
    {
     "data": {
      "text/plain": [
       "[('Dairy', 33),\n",
       " ('Magazines', 44),\n",
       " ('Snacks', 75),\n",
       " ('Deli', 6),\n",
       " ('Canned Goods & Soups', 12),\n",
       " ('NULL', 155),\n",
       " ('Condiments & Sauces', 27),\n",
       " ('Grocery', 39),\n",
       " ('Beauty & Personal Care', 6),\n",
       " ('Candy & Sweets', 71),\n",
       " ('Health & Wellness', 44),\n",
       " ('Bread & Bakery', 5),\n",
       " ('Baby', 18),\n",
       " ('Baking', 369),\n",
       " ('Cleaning & Home Improvement', 6),\n",
       " ('Beverages', 63),\n",
       " ('Outdoor', 1),\n",
       " ('Beer Wine Spirits', 90),\n",
       " ('Dairy & Refrigerated', 5),\n",
       " ('Breakfast & Cereal', 40),\n",
       " ('Household', 5),\n",
       " ('Frozen', 24),\n",
       " ('Personal Care', 20),\n",
       " ('Beauty', 9)]"
      ]
     },
     "execution_count": 279,
     "metadata": {},
     "output_type": "execute_result"
    }
   ],
   "source": [
    "cur.fetchall()"
   ]
  },
  {
   "cell_type": "code",
   "execution_count": 256,
   "id": "7111a0a6",
   "metadata": {},
   "outputs": [
    {
     "data": {
      "text/plain": [
       "''"
      ]
     },
     "execution_count": 256,
     "metadata": {},
     "output_type": "execute_result"
    }
   ],
   "source": [
    "data[1167]"
   ]
  },
  {
   "cell_type": "code",
   "execution_count": 300,
   "id": "4df0f17a",
   "metadata": {
    "scrolled": true
   },
   "outputs": [
    {
     "data": {
      "text/plain": [
       "[('601ac115be37ce2ead437551',\n",
       "  511111019862,\n",
       "  None,\n",
       "  'Baking',\n",
       "  'BAKING',\n",
       "  'Cogs',\n",
       "  False,\n",
       "  'test brand @1612366101024'),\n",
       " ('601c5460be37ce2ead43755f',\n",
       "  511111519928,\n",
       "  'STARBUCKS',\n",
       "  'Beverages',\n",
       "  'BEVERAGES',\n",
       "  'Cogs',\n",
       "  False,\n",
       "  'Starbucks'),\n",
       " ('601ac142be37ce2ead43755d',\n",
       "  511111819905,\n",
       "  'TEST BRANDCODE @1612366146176',\n",
       "  'Baking',\n",
       "  'BAKING',\n",
       "  'Cogs',\n",
       "  False,\n",
       "  'test brand @1612366146176'),\n",
       " ('601ac142be37ce2ead43755a',\n",
       "  511111519874,\n",
       "  'TEST BRANDCODE @1612366146051',\n",
       "  'Baking',\n",
       "  'BAKING',\n",
       "  'Cogs',\n",
       "  False,\n",
       "  'test brand @1612366146051')]"
      ]
     },
     "execution_count": 300,
     "metadata": {},
     "output_type": "execute_result"
    }
   ],
   "source": [
    "query = '''\n",
    "        SELECT * FROM brands LIMIT 4;\n",
    "        '''\n",
    "\n",
    "cur.execute(query)\n",
    "cur.fetchall()"
   ]
  },
  {
   "cell_type": "code",
   "execution_count": 381,
   "id": "da1839fc",
   "metadata": {},
   "outputs": [],
   "source": [
    "def populate_sql(url, table):\n",
    "    '''docstring'''\n",
    "    \n",
    "    # Start with Python's connection to PostgreSQL database\n",
    "    # Note: must have a postgres docker container running locally\n",
    "\n",
    "    conn = psycopg2.connect(dbname='postgres',\n",
    "                            host='localhost',\n",
    "                            user='postgres',\n",
    "                            password='123456')\n",
    "    \n",
    "    curr = conn.cursor()\n",
    "    \n",
    "    # Defining some variables that change depending on the table\n",
    "    if table == 'brands':\n",
    "        keys = ['_id_$oid', 'barcode', 'brandCode', 'category', \n",
    "                'categoryCode', 'cpg_$ref', 'topBrand', 'name']\n",
    "        schema = '''\n",
    "            CREATE TABLE brands (\n",
    "                _id VARCHAR(24), \n",
    "                barcode BIGINT, \n",
    "                brandCode VARCHAR(64),\n",
    "                category VARCHAR(64),\n",
    "                categoryCode VARCHAR(64),\n",
    "                cpg VARCHAR(24),\n",
    "                topBrand BOOL,\n",
    "                name VARCHAR(64)\n",
    "            );\n",
    "            '''\n",
    "        empty_query = '''\n",
    "            INSERT INTO brands\n",
    "            VALUES (\n",
    "            '{0}', '{1}', '{2}', '{3}', '{4}', '{5}', {6}, '{7}'\n",
    "            );\n",
    "            '''\n",
    "    elif table == 'users':\n",
    "        keys = ['_id_$oid', 'state', 'createdDate_$date', 'lastLogin_$date',\n",
    "                'role', 'active']\n",
    "        schema = '''\n",
    "            CREATE TABLE users (\n",
    "                _id VARCHAR(24),\n",
    "                state VARCHAR(2),\n",
    "                createdDate VARCHAR(13),\n",
    "                lastLogin VARCHAR(13),\n",
    "                role VARCHAR(12),\n",
    "                active BOOL\n",
    "            );\n",
    "            '''\n",
    "        empty_query = '''\n",
    "            INSERT INTO users\n",
    "            VALUES (\n",
    "            '{0}', '{1}', '{2}', '{3}', '{4}', {5}\n",
    "            );\n",
    "            '''\n",
    "    elif table == 'receipts':\n",
    "        keys = ['_id_$oid', 'bonusPointsEarned', 'bonusPointsEarnedReason',\n",
    "                'createDate_$date', 'dateScanned_$date', 'finishedDate_$date',\n",
    "                'modifyDate_$date', 'pointsAwardedDate_$date', 'pointsEarned',\n",
    "                'purchaseDate_$date', 'purchasedItemCount',\n",
    "                'rewardsReceiptStatus', 'totalSpent', 'userId']\n",
    "        schema = '''\n",
    "            CREATE TABLE receipts (\n",
    "                _id VARCHAR(24),\n",
    "                bonusPointsEarned INT,\n",
    "                bonusPointsEarnedReason VARCHAR(128),\n",
    "                createDate VARCHAR(13),\n",
    "                dateScanned VARCHAR(13),\n",
    "                finishedDate VARCHAR(13),\n",
    "                modifyDate VARCHAR(13),\n",
    "                pointsAwardedDate VARCHAR(13),\n",
    "                pointsEarned REAL,\n",
    "                purchaseDate VARCHAR(13),\n",
    "                purchasedItemCount INT,\n",
    "                rewardsReceiptStatus VARCHAR(12),\n",
    "                totalSpent REAL,\n",
    "                userId VARCHAR(24)\n",
    "            );\n",
    "            '''\n",
    "        empty_query = '''\n",
    "            INSERT INTO receipts\n",
    "            VALUES (\n",
    "            '{0}', '{1}', '{2}', '{3}', '{4}', '{5}', {6}, '{7}',\n",
    "            '{8}', '{9}', '{10}', '{11}', '{12}', '{13}'\n",
    "            );\n",
    "            '''\n",
    "    else:\n",
    "        print(\"Couldn't tell what data you wanted\")\n",
    "        return None\n",
    "    \n",
    "    cur.execute(schema)\n",
    "    \n",
    "    # Now data. First unzip raw data\n",
    "    with gzip.open(url, 'r') as file:\n",
    "        bytes_data = file.read()\n",
    "        data_str = bytes_data.decode('utf-8')\n",
    "\n",
    "    # Separate different rows of data, list of strings\n",
    "    data = data_str.split('\\n')\n",
    "\n",
    "    # Loops through each \"row\" and inserts into SQL database\n",
    "    for i in range(len(data)-1):\n",
    "        # Get data from row\n",
    "        vals = row_to_sql(data, i, keys)\n",
    "        \n",
    "        # Populate empty query with row data\n",
    "        query = empty_query.format(*vals)\n",
    "\n",
    "        # Replacing 'NULL' varchar with NULL type\n",
    "        query = query.replace(\"'NULL'\", \"NULL\")\n",
    "\n",
    "        cur.execute(query)"
   ]
  },
  {
   "cell_type": "code",
   "execution_count": 382,
   "id": "06157da0",
   "metadata": {},
   "outputs": [],
   "source": [
    "# Useful recursive function to flatten any given JSON row\n",
    "# Copied from https://www.geeksforgeeks.org/flattening-json-objects-in-python/\n",
    "\n",
    "def flatten_json(y):\n",
    "    out = {}\n",
    "  \n",
    "    def flatten(x, name =''):\n",
    "          \n",
    "        # If the Nested key-value \n",
    "        # pair is of dict type\n",
    "        if type(x) is dict:\n",
    "              \n",
    "            for a in x:\n",
    "                flatten(x[a], name + a + '_')\n",
    "                  \n",
    "        # If the Nested key-value\n",
    "        # pair is of list type\n",
    "        elif type(x) is list:\n",
    "              \n",
    "            i = 0\n",
    "              \n",
    "            for a in x:                \n",
    "                flatten(a, name + str(i) + '_')\n",
    "                i += 1\n",
    "        else:\n",
    "            out[name[:-1]] = x\n",
    "  \n",
    "    flatten(y)\n",
    "    return out"
   ]
  },
  {
   "cell_type": "code",
   "execution_count": 383,
   "id": "639bbfe2",
   "metadata": {},
   "outputs": [],
   "source": [
    "def row_to_sql(data, num, keys):\n",
    "    # Returns a list of values (as strings) at a given row \n",
    "    # so it can fit into SQL\n",
    "    \n",
    "    row = flatten_json(json.loads(data[num]))\n",
    "\n",
    "    vals = ['NULL'] * len(keys)\n",
    "\n",
    "    # All 'NULL' unless data is available\n",
    "    for i, k in enumerate(keys):\n",
    "        if k in row.keys():\n",
    "            a = row[k]\n",
    "            if isinstance(a, str):\n",
    "                a = a.replace(\"'\", '')\n",
    "            vals[i] = a\n",
    "    \n",
    "    return vals"
   ]
  },
  {
   "cell_type": "code",
   "execution_count": 387,
   "id": "877fe930",
   "metadata": {},
   "outputs": [],
   "source": [
    "populate_sql(url='data/users.json.gz', table='users')\n",
    "populate_sql(url='data/brands.json.gz', table='brands')\n",
    "#populate_sql(url='data/receipts.json.gz', table='receipts')"
   ]
  },
  {
   "cell_type": "code",
   "execution_count": 389,
   "id": "d64dfc92",
   "metadata": {},
   "outputs": [
    {
     "data": {
      "text/plain": [
       "[('5ff1e1eb0a720f0523000575',\n",
       "  500,\n",
       "  'Receipt number 2 completed, bonus point schedule DEFAULT (5cefdcacf3693e0b50e83a36)',\n",
       "  '1609687531000',\n",
       "  '1609687531000',\n",
       "  '1609687531000',\n",
       "  '1609687536000',\n",
       "  '1609687531000',\n",
       "  500.0,\n",
       "  '1609632000000',\n",
       "  5,\n",
       "  'FINISHED',\n",
       "  26.0,\n",
       "  '5ff1e1eacfcf6c399c274ae6'),\n",
       " ('5ff1e1bb0a720f052300056b',\n",
       "  150,\n",
       "  'Receipt number 5 completed, bonus point schedule DEFAULT (5cefdcacf3693e0b50e83a36)',\n",
       "  '1609687483000',\n",
       "  '1609687483000',\n",
       "  '1609687483000',\n",
       "  '1609687488000',\n",
       "  '1609687483000',\n",
       "  150.0,\n",
       "  '1609601083000',\n",
       "  2,\n",
       "  'FINISHED',\n",
       "  11.0,\n",
       "  '5ff1e194b6a9d73a3a9f1052'),\n",
       " ('5ff1e1f10a720f052300057a',\n",
       "  5,\n",
       "  'All-receipts receipt bonus',\n",
       "  '1609687537000',\n",
       "  '1609687537000',\n",
       "  None,\n",
       "  '1609687542000',\n",
       "  None,\n",
       "  5.0,\n",
       "  '1609632000000',\n",
       "  1,\n",
       "  'REJECTED',\n",
       "  10.0,\n",
       "  '5ff1e1f1cfcf6c399c274b0b'),\n",
       " ('5ff1e1ee0a7214ada100056f',\n",
       "  5,\n",
       "  'All-receipts receipt bonus',\n",
       "  '1609687534000',\n",
       "  '1609687534000',\n",
       "  '1609687534000',\n",
       "  '1609687539000',\n",
       "  '1609687534000',\n",
       "  5.0,\n",
       "  '1609632000000',\n",
       "  4,\n",
       "  'FINISHED',\n",
       "  28.0,\n",
       "  '5ff1e1eacfcf6c399c274ae6')]"
      ]
     },
     "execution_count": 389,
     "metadata": {},
     "output_type": "execute_result"
    }
   ],
   "source": [
    "query = '''\n",
    "        SELECT * FROM receipts LIMIT 4;\n",
    "        '''\n",
    "\n",
    "cur.execute(query)\n",
    "cur.fetchall()"
   ]
  },
  {
   "cell_type": "code",
   "execution_count": 388,
   "id": "c64bac4e",
   "metadata": {},
   "outputs": [],
   "source": [
    "conn.commit()"
   ]
  },
  {
   "cell_type": "markdown",
   "id": "eab5eb56",
   "metadata": {},
   "source": [
    "#### in terminal commands\n",
    "\n",
    "If you don't have the docker container\n",
    "> docker run -d -p 5432:5432 --name my-postgres -e POSTGRES_PASSWORD=123456 postgres\n",
    "\n",
    "Otherwise open existing docker container\n",
    "> docker run my-postgres\n",
    "\n",
    "Run python script (only needs to be run once)\n",
    "> python fetch.py\n",
    "\n",
    "within terminal (local)\n",
    "> docker exec -it my-postgres bash\n",
    "\n",
    "within terminal (container)\n",
    "will ask for password (123456)\n",
    "> psql -h localhost -p 5432 -U postgres -W\n",
    "\n",
    "see what databases are present (should include fetch)\n",
    "> \\l\n",
    "\n",
    "connect to Fetch database\n",
    "> \\c postgres\n",
    "\n",
    "list tables\n",
    "> \\dt\n",
    "\n",
    "execute queries"
   ]
  },
  {
   "cell_type": "code",
   "execution_count": null,
   "id": "c9e4d22e",
   "metadata": {},
   "outputs": [],
   "source": []
  }
 ],
 "metadata": {
  "kernelspec": {
   "display_name": "Python 3",
   "language": "python",
   "name": "python3"
  },
  "language_info": {
   "codemirror_mode": {
    "name": "ipython",
    "version": 3
   },
   "file_extension": ".py",
   "mimetype": "text/x-python",
   "name": "python",
   "nbconvert_exporter": "python",
   "pygments_lexer": "ipython3",
   "version": "3.8.11"
  }
 },
 "nbformat": 4,
 "nbformat_minor": 5
}
